{
  "cells": [
    {
      "cell_type": "markdown",
      "metadata": {
        "id": "view-in-github",
        "colab_type": "text"
      },
      "source": [
        "<a href=\"https://colab.research.google.com/github/yuj0630/Catholic_Regacy/blob/main/data_structure2.ipynb\" target=\"_parent\"><img src=\"https://colab.research.google.com/assets/colab-badge.svg\" alt=\"Open In Colab\"/></a>"
      ]
    },
    {
      "cell_type": "code",
      "execution_count": null,
      "metadata": {
        "id": "pZ-0t96YYCTj"
      },
      "outputs": [],
      "source": [
        "import random\n",
        "import math\n",
        "\n",
        "class Node():\n",
        "    def __init__(self):\n",
        "        self.data = None\n",
        "        self.link = None\n",
        "\n",
        "def printStores(start):\n",
        "    current = start\n",
        "    if current = None:\n",
        "        return \n",
        "\n",
        "    while current.link != head:\n",
        "        current = current.link\n",
        "        x, y = current.data[1:]\n",
        "        print(current.data[0], '편의점, 거리:', math.sprt(x*x + y*y))\n",
        "    print()\n",
        "\n",
        "def makeStoreList(store):\n",
        "    global memory, head, current, pre\n",
        "\n",
        "    node = Node()\n",
        "    node.data = store\n",
        "    memory.append(node)\n",
        "\n",
        "    if head == None:\n",
        "        head = node\n",
        "        node.link = head\n",
        "        return\n",
        "\n",
        "#새 편의점이 첫 번째 편의점보다 가까우면 첫 편의점으로 만듦\n",
        "nodeX, nodeY = node.data[1:]\n",
        "nodeDist = math.sprt(nodeX*nodeX + nodeY*nodeY)\n",
        "headX, headY = head.data[1:]\n",
        "headDist = math.sprt(headX*headX + headY*headY)\n",
        "\n",
        "if headDist > nodeDist:\n",
        "    node.link = head\n",
        "    last = head\n",
        "    while last.link != head:\n",
        "        last = last.link\n",
        "    last.link = node\n",
        "    head = node   \n",
        "    return\n",
        "\n",
        "    current = head\n",
        "    while current.link != head:\n",
        "        pre = current\n",
        "        current = current.link\n",
        "        currX, currY = current.data[1:]\n",
        "        currDist = mathsprt(currX*currX + currY*currY)\n",
        "        if currDist > nodeDist:\n",
        "            pre.link = node\n",
        "            node.link = current\n",
        "            return\n",
        "\n",
        "    current.link = node\n",
        "    node.link = head\n",
        "\n",
        "##전역 변수 선언 부분\n",
        "memory = []\n",
        "head, current, pre = None, None, None\n",
        "\n",
        "##메인 코드 부분\n",
        "if __name__ == \"__main__\":\n",
        "\n",
        "    storeArray = []\n",
        "    storeName = 'A'\n",
        "    for _ in range(10):\n",
        "        store = (storeName, random.randint(1, 100), random.randint(1, 100))\n",
        "        storeArray.append(store)\n",
        "        storeName = chr(ord(storeName)+1)\n",
        "\n",
        "    for store in storeArray:\n",
        "        makeStoreList(store)\n",
        "\n",
        "    printStores(head)        \n",
        "                           "
      ]
    },
    {
      "cell_type": "code",
      "execution_count": null,
      "metadata": {
        "id": "9ITmjkZnIKax"
      },
      "outputs": [],
      "source": [
        "class Node2():\n",
        "    def __init__(self):\n",
        "        self.plink = None\n",
        "        self.data = None\n",
        "        self.nlink = None\n",
        "\n",
        "def printNodes(start):\n",
        "    current = start\n",
        "    if current.nlink == None:\n",
        "        return\n",
        "    print(\"정방향 --> \", end = ' ') \n",
        "    print(current.data, end = ' ')\n",
        "    while current.nlink != None:\n",
        "        current = current.nlink\n",
        "        print(current.data, end = ' ')\n",
        "    print()\n",
        "    print(\"역방향 --> \", end = ' ') \n",
        "    print(current.data, end = ' ')\n",
        "    while current.plink != None:\n",
        "        current = current.plink\n",
        "        print(current.data, end = ' ')  \n",
        "\n",
        "##전역 변수 선언 부분\n",
        "if __name__ == \"__main__\" :\n",
        "\n",
        "    node = Node2()     \n",
        "    node.data = dataArray[0]\n",
        "    head = node\n",
        "    memory = append(node)\n",
        "\n",
        "    for data in dataArray[1:]:\n",
        "        pre = node\n",
        "        node = Node2()\n",
        "        node.data = data\n",
        "        pre.nlink = node\n",
        "        node.plink = pre\n",
        "        memory.append(node)\n",
        "\n",
        "    printNodes(head)        \n"
      ]
    },
    {
      "cell_type": "code",
      "source": [
        "def check(N, candy):\n",
        "  for i in range(N):\n",
        "    if candy[i] % 2 == 1;\n",
        "    cnady[i] += 1\n",
        "  return len(set(candy)) == 1\n",
        "\n",
        "def teacher(N, candy):\n",
        "  tem_list = [0 for i in range(N)]\n",
        "  for idx in range(N):\n",
        "    if candy[idx] % 2:\n",
        "      candy[idx] += 1\n",
        "    candy[idx] //= 2\n",
        "    tem_list[(idx+1) % N] = candy[idx]\n",
        "\n",
        "  for idx in range(N):\n",
        "    candy[idx] + += tmp_list[idx]\n",
        "\n",
        "  return candy\n",
        "\n",
        "def process():\n",
        "  N, candy = int(input()), list (map(int, input().split()))\n",
        "  cnt = 0\n",
        "  while not check(N, candy):\n",
        "    cnt += 1\n",
        "    candy = teacher(N candy)\n",
        "  print(cnt)\n",
        "\n",
        "for i in range(int(input())):\n",
        "  process()                "
      ],
      "metadata": {
        "id": "u2_JjbL9IMWI"
      },
      "execution_count": null,
      "outputs": []
    },
    {
      "cell_type": "code",
      "source": [
        "C, M = list(), list()\n",
        "\n",
        "for i in range(3):\n",
        "  a, b = map(int, int(input(). split())\n",
        "  C.append(a)\n",
        "  M.append(b)\n",
        "\n",
        "for i in range(100):\n",
        "  idx = i % 3\n",
        "  nxt = (idx+1) % 3\n",
        "  M[idx], M[nxt] = max(C[nxt] - M[nxt] + M[idx])  \n",
        "\n",
        "for i in M:\n",
        "  print(i)  "
      ],
      "metadata": {
        "id": "PjpDArEiYw3Y"
      },
      "execution_count": null,
      "outputs": []
    },
    {
      "cell_type": "code",
      "source": [
        "N, r, c = map(int, input().split())\n",
        "\n",
        "def Z(sz, x, y):\n",
        "  if sz == 1:\n",
        "    return 0\n",
        "  sz //= 2\n",
        "  for i in range(2):\n",
        "    for j in range(2):\n",
        "      if x < sz * (i+1) and y < sz * (j+1):\n",
        "        return dfs(sz, x-sz*i, y-sz*j) \n",
        "\n",
        "print(Z(2**N, r, c))"
      ],
      "metadata": {
        "id": "4XJB75GyZ2bu"
      },
      "execution_count": null,
      "outputs": []
    },
    {
      "cell_type": "code",
      "source": [
        "N, M = map(int, input().split())\n",
        "A = [list(map(int, input().split())) for _ in range(N)]\n",
        "DP = [[0 for i in range(1, M+1)] for _ in range(N+1)]\n",
        "\n",
        "for i in range(1, N_1):\n",
        "  for j in range(1, M+1):\n",
        "    DP[i][j] = DP[i-1][j] + DP[i][j-1] - DP[i-1][j-1] + A[i-1][j-1]\n",
        "\n",
        "for _ in range(int(input())):\n",
        "  i, j, x, y = map(int, input().split())\n",
        "  print(DP[x][y] - DP[i-1][y])"
      ],
      "metadata": {
        "id": "FiSQXijmj9SL"
      },
      "execution_count": null,
      "outputs": []
    },
    {
      "cell_type": "code",
      "source": [
        "N, M = map(int. input(). split())\n",
        "A = [[0 for _ in range(M+1)] for i in range(N+1)]\n",
        "#dp[i][j] = i, j까지 왔을 때, 가장 큰 정사각형의 한 변의 길이\n",
        "#dp[i][j] = min(DP[i-1][j]. DP[i-1][j-1], DP[i][j-1] + 1)\n",
        "DP = [[0 for _ in range(M+1)] for i in range(N+1)]\n",
        "\n",
        "for i in range(N):\n",
        "  for idx, j in enumerate(list(map(int, list(input())))):\n",
        "    A[i+1][idx+1] = j\n",
        "\n",
        "mx = 0\n",
        "\n",
        "for i in range(1, N+1):\n",
        "  for j in range(1, M+1):\n",
        "    if A[i][j]:\n",
        "      DP[i][j] = min(DP[i-1][j], DP[i-1][j-1], DP[i][j-1])\n",
        "      mx = max(DP[i][j], mx)\n",
        "\n",
        "print(mx**2)\n",
        "print(max([max(i) for i in DP]) ** 2)      "
      ],
      "metadata": {
        "id": "FRSp49cczKId"
      },
      "execution_count": null,
      "outputs": []
    },
    {
      "cell_type": "code",
      "source": [
        "S = input()\n",
        "for i in range(1, len(S)):\n",
        "  if S[i] != S[i-1]\n",
        "  tot += 1\n",
        "\n",
        "print((tot+1)//2)  "
      ],
      "metadata": {
        "id": "vJdO2An82wmk"
      },
      "execution_count": null,
      "outputs": []
    },
    {
      "cell_type": "code",
      "source": [
        "N = input()\n",
        "S = '1'* len(N)\n",
        "\n",
        "if len(N) == 1:\n",
        "  print(1)\n",
        "elif int(N) >= int(S):\n",
        "  print(len(N))\n",
        "else:\n",
        "  print(len(N)-1)    \n"
      ],
      "metadata": {
        "id": "V4ASyr2g5Uzq"
      },
      "execution_count": null,
      "outputs": []
    },
    {
      "cell_type": "code",
      "source": [
        "N, A = int(input()), list(map(int, input().split()))\n",
        "A.sorted()\n",
        "\n",
        "ans = 0\n",
        "\n",
        "for i in A:\n",
        "  if i <= ans + 1:\n",
        "    ans += 1\n",
        "  else:\n",
        "    break\n",
        "\n",
        "print(ans+1)      "
      ],
      "metadata": {
        "id": "bmRNodrBBMwH"
      },
      "execution_count": null,
      "outputs": []
    },
    {
      "cell_type": "code",
      "source": [
        "N, M = map(int, input().split())\n",
        "A = [list(map(int, list(input()))) for _ in range(N)]\n",
        "B = [list(map(int, list(input()))) for _ in range(N)]\n",
        "\n",
        "def flip(x, y, A):\n",
        "  for i in range(3):\n",
        "    for j in range(3):\n",
        "      A[x+1][y+j] ^= 1\n",
        "\n",
        "ans = 0\n",
        "\n",
        "for i in range(1, N-2):\n",
        "  for j in range(0, M-2):\n",
        "    if A[i][j] != B[i][j]:\n",
        "      flip(i, j, A)\n",
        "      ans += 1\n",
        "\n",
        "print(ans if A == B else -1)      \n"
      ],
      "metadata": {
        "id": "g6lHRTwzCSsW"
      },
      "execution_count": null,
      "outputs": []
    }
  ],
  "metadata": {
    "colab": {
      "provenance": [],
      "include_colab_link": true
    },
    "kernelspec": {
      "display_name": "Python 3",
      "name": "python3"
    },
    "language_info": {
      "name": "python"
    }
  },
  "nbformat": 4,
  "nbformat_minor": 0
}